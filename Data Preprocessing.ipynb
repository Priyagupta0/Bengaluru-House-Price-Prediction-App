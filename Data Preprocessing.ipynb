{
 "cells": [
  {
   "cell_type": "code",
   "execution_count": 82,
   "id": "155a0a53-5cbd-4995-aab4-d0c1f35a56df",
   "metadata": {},
   "outputs": [],
   "source": [
    "import numpy as np\n",
    "import pandas as pd"
   ]
  },
  {
   "cell_type": "code",
   "execution_count": 83,
   "id": "7c02dfd6-732d-48fa-b8e7-200ecb883237",
   "metadata": {},
   "outputs": [
    {
     "data": {
      "text/html": [
       "<div>\n",
       "<style scoped>\n",
       "    .dataframe tbody tr th:only-of-type {\n",
       "        vertical-align: middle;\n",
       "    }\n",
       "\n",
       "    .dataframe tbody tr th {\n",
       "        vertical-align: top;\n",
       "    }\n",
       "\n",
       "    .dataframe thead th {\n",
       "        text-align: right;\n",
       "    }\n",
       "</style>\n",
       "<table border=\"1\" class=\"dataframe\">\n",
       "  <thead>\n",
       "    <tr style=\"text-align: right;\">\n",
       "      <th></th>\n",
       "      <th>area_type</th>\n",
       "      <th>availability</th>\n",
       "      <th>location</th>\n",
       "      <th>size</th>\n",
       "      <th>society</th>\n",
       "      <th>total_sqft</th>\n",
       "      <th>bath</th>\n",
       "      <th>balcony</th>\n",
       "      <th>price</th>\n",
       "    </tr>\n",
       "  </thead>\n",
       "  <tbody>\n",
       "    <tr>\n",
       "      <th>0</th>\n",
       "      <td>Super built-up  Area</td>\n",
       "      <td>19-Dec</td>\n",
       "      <td>Electronic City Phase II</td>\n",
       "      <td>2 BHK</td>\n",
       "      <td>Coomee</td>\n",
       "      <td>1056</td>\n",
       "      <td>2.0</td>\n",
       "      <td>1.0</td>\n",
       "      <td>39.07</td>\n",
       "    </tr>\n",
       "    <tr>\n",
       "      <th>1</th>\n",
       "      <td>Plot  Area</td>\n",
       "      <td>Ready To Move</td>\n",
       "      <td>Chikka Tirupathi</td>\n",
       "      <td>4 Bedroom</td>\n",
       "      <td>Theanmp</td>\n",
       "      <td>2600</td>\n",
       "      <td>5.0</td>\n",
       "      <td>3.0</td>\n",
       "      <td>120.00</td>\n",
       "    </tr>\n",
       "    <tr>\n",
       "      <th>2</th>\n",
       "      <td>Built-up  Area</td>\n",
       "      <td>Ready To Move</td>\n",
       "      <td>Uttarahalli</td>\n",
       "      <td>3 BHK</td>\n",
       "      <td>NaN</td>\n",
       "      <td>1440</td>\n",
       "      <td>2.0</td>\n",
       "      <td>3.0</td>\n",
       "      <td>62.00</td>\n",
       "    </tr>\n",
       "    <tr>\n",
       "      <th>3</th>\n",
       "      <td>Super built-up  Area</td>\n",
       "      <td>Ready To Move</td>\n",
       "      <td>Lingadheeranahalli</td>\n",
       "      <td>3 BHK</td>\n",
       "      <td>Soiewre</td>\n",
       "      <td>1521</td>\n",
       "      <td>3.0</td>\n",
       "      <td>1.0</td>\n",
       "      <td>95.00</td>\n",
       "    </tr>\n",
       "    <tr>\n",
       "      <th>4</th>\n",
       "      <td>Super built-up  Area</td>\n",
       "      <td>Ready To Move</td>\n",
       "      <td>Kothanur</td>\n",
       "      <td>2 BHK</td>\n",
       "      <td>NaN</td>\n",
       "      <td>1200</td>\n",
       "      <td>2.0</td>\n",
       "      <td>1.0</td>\n",
       "      <td>51.00</td>\n",
       "    </tr>\n",
       "  </tbody>\n",
       "</table>\n",
       "</div>"
      ],
      "text/plain": [
       "              area_type   availability                  location       size  \\\n",
       "0  Super built-up  Area         19-Dec  Electronic City Phase II      2 BHK   \n",
       "1            Plot  Area  Ready To Move          Chikka Tirupathi  4 Bedroom   \n",
       "2        Built-up  Area  Ready To Move               Uttarahalli      3 BHK   \n",
       "3  Super built-up  Area  Ready To Move        Lingadheeranahalli      3 BHK   \n",
       "4  Super built-up  Area  Ready To Move                  Kothanur      2 BHK   \n",
       "\n",
       "   society total_sqft  bath  balcony   price  \n",
       "0  Coomee        1056   2.0      1.0   39.07  \n",
       "1  Theanmp       2600   5.0      3.0  120.00  \n",
       "2      NaN       1440   2.0      3.0   62.00  \n",
       "3  Soiewre       1521   3.0      1.0   95.00  \n",
       "4      NaN       1200   2.0      1.0   51.00  "
      ]
     },
     "execution_count": 83,
     "metadata": {},
     "output_type": "execute_result"
    }
   ],
   "source": [
    "dataset = pd.read_csv(\"Bengaluru_House_Data.csv\")\n",
    "dataset.head()"
   ]
  },
  {
   "cell_type": "code",
   "execution_count": 84,
   "id": "4187d1b1-105c-41de-bb35-c7500c73d1c4",
   "metadata": {},
   "outputs": [
    {
     "data": {
      "text/plain": [
       "(13320, 9)"
      ]
     },
     "execution_count": 84,
     "metadata": {},
     "output_type": "execute_result"
    }
   ],
   "source": [
    "dataset.shape"
   ]
  },
  {
   "cell_type": "code",
   "execution_count": 85,
   "id": "75ffef1a-3a3f-4a79-9211-71da7cc968ed",
   "metadata": {},
   "outputs": [
    {
     "name": "stdout",
     "output_type": "stream",
     "text": [
      "<class 'pandas.core.frame.DataFrame'>\n",
      "RangeIndex: 13320 entries, 0 to 13319\n",
      "Data columns (total 9 columns):\n",
      " #   Column        Non-Null Count  Dtype  \n",
      "---  ------        --------------  -----  \n",
      " 0   area_type     13320 non-null  object \n",
      " 1   availability  13320 non-null  object \n",
      " 2   location      13319 non-null  object \n",
      " 3   size          13304 non-null  object \n",
      " 4   society       7818 non-null   object \n",
      " 5   total_sqft    13320 non-null  object \n",
      " 6   bath          13247 non-null  float64\n",
      " 7   balcony       12711 non-null  float64\n",
      " 8   price         13320 non-null  float64\n",
      "dtypes: float64(3), object(6)\n",
      "memory usage: 936.7+ KB\n"
     ]
    }
   ],
   "source": [
    "dataset.info()"
   ]
  },
  {
   "cell_type": "code",
   "execution_count": 86,
   "id": "d2e5b5d0-bc80-4765-a1e8-bd079a1cbfa3",
   "metadata": {},
   "outputs": [
    {
     "name": "stdout",
     "output_type": "stream",
     "text": [
      "area_type\n",
      "Super built-up  Area    8790\n",
      "Built-up  Area          2418\n",
      "Plot  Area              2025\n",
      "Carpet  Area              87\n",
      "Name: count, dtype: int64\n",
      "~~~~~~~~~~~~~~~~~~~~~~~~~~~~~~~~~~~~~~~~\n",
      "availability\n",
      "Ready To Move    10581\n",
      "18-Dec             307\n",
      "18-May             295\n",
      "18-Apr             271\n",
      "18-Aug             200\n",
      "                 ...  \n",
      "16-Oct               1\n",
      "17-Jan               1\n",
      "16-Nov               1\n",
      "16-Jan               1\n",
      "14-Jul               1\n",
      "Name: count, Length: 81, dtype: int64\n",
      "~~~~~~~~~~~~~~~~~~~~~~~~~~~~~~~~~~~~~~~~\n",
      "location\n",
      "Whitefield                 540\n",
      "Sarjapur  Road             399\n",
      "Electronic City            302\n",
      "Kanakpura Road             273\n",
      "Thanisandra                234\n",
      "                          ... \n",
      "Park View Layout             1\n",
      "Xavier Layout                1\n",
      "Air View Colony              1\n",
      "akshaya nagar t c palya      1\n",
      "mvj engineering college      1\n",
      "Name: count, Length: 1305, dtype: int64\n",
      "~~~~~~~~~~~~~~~~~~~~~~~~~~~~~~~~~~~~~~~~\n",
      "size\n",
      "2 BHK         5199\n",
      "3 BHK         4310\n",
      "4 Bedroom      826\n",
      "4 BHK          591\n",
      "3 Bedroom      547\n",
      "1 BHK          538\n",
      "2 Bedroom      329\n",
      "5 Bedroom      297\n",
      "6 Bedroom      191\n",
      "1 Bedroom      105\n",
      "8 Bedroom       84\n",
      "7 Bedroom       83\n",
      "5 BHK           59\n",
      "9 Bedroom       46\n",
      "6 BHK           30\n",
      "7 BHK           17\n",
      "1 RK            13\n",
      "10 Bedroom      12\n",
      "9 BHK            8\n",
      "8 BHK            5\n",
      "11 BHK           2\n",
      "10 BHK           2\n",
      "11 Bedroom       2\n",
      "27 BHK           1\n",
      "19 BHK           1\n",
      "43 Bedroom       1\n",
      "16 BHK           1\n",
      "14 BHK           1\n",
      "12 Bedroom       1\n",
      "13 BHK           1\n",
      "18 Bedroom       1\n",
      "Name: count, dtype: int64\n",
      "~~~~~~~~~~~~~~~~~~~~~~~~~~~~~~~~~~~~~~~~\n",
      "society\n",
      "GrrvaGr    80\n",
      "PrarePa    76\n",
      "Prtates    59\n",
      "Sryalan    59\n",
      "GMown E    56\n",
      "           ..\n",
      "PronsAs     1\n",
      "NantsGa     1\n",
      "Vemit S     1\n",
      "Shamzm      1\n",
      "SJces R     1\n",
      "Name: count, Length: 2688, dtype: int64\n",
      "~~~~~~~~~~~~~~~~~~~~~~~~~~~~~~~~~~~~~~~~\n",
      "total_sqft\n",
      "1200       843\n",
      "1100       221\n",
      "1500       205\n",
      "2400       196\n",
      "600        180\n",
      "          ... \n",
      "1369         1\n",
      "5665.84      1\n",
      "2920         1\n",
      "6688         1\n",
      "1331.95      1\n",
      "Name: count, Length: 2117, dtype: int64\n",
      "~~~~~~~~~~~~~~~~~~~~~~~~~~~~~~~~~~~~~~~~\n",
      "bath\n",
      "2.0     6908\n",
      "3.0     3286\n",
      "4.0     1226\n",
      "1.0      788\n",
      "5.0      524\n",
      "6.0      273\n",
      "7.0      102\n",
      "8.0       64\n",
      "9.0       43\n",
      "10.0      13\n",
      "12.0       7\n",
      "11.0       3\n",
      "13.0       3\n",
      "16.0       2\n",
      "27.0       1\n",
      "14.0       1\n",
      "40.0       1\n",
      "15.0       1\n",
      "18.0       1\n",
      "Name: count, dtype: int64\n",
      "~~~~~~~~~~~~~~~~~~~~~~~~~~~~~~~~~~~~~~~~\n",
      "balcony\n",
      "2.0    5113\n",
      "1.0    4897\n",
      "3.0    1672\n",
      "0.0    1029\n",
      "Name: count, dtype: int64\n",
      "~~~~~~~~~~~~~~~~~~~~~~~~~~~~~~~~~~~~~~~~\n",
      "price\n",
      "75.00     310\n",
      "65.00     302\n",
      "55.00     275\n",
      "60.00     270\n",
      "45.00     240\n",
      "         ... \n",
      "219.00      1\n",
      "32.93       1\n",
      "988.00      1\n",
      "94.28       1\n",
      "43.04       1\n",
      "Name: count, Length: 1994, dtype: int64\n",
      "~~~~~~~~~~~~~~~~~~~~~~~~~~~~~~~~~~~~~~~~\n"
     ]
    }
   ],
   "source": [
    "for col in dataset.columns:\n",
    "    print(dataset[col].value_counts())\n",
    "    print(\"~~\"*20)"
   ]
  },
  {
   "cell_type": "code",
   "execution_count": 87,
   "id": "e71b8613-35ad-40c7-95a9-48d895c01d89",
   "metadata": {},
   "outputs": [
    {
     "data": {
      "text/plain": [
       "area_type          0\n",
       "availability       0\n",
       "location           1\n",
       "size              16\n",
       "society         5502\n",
       "total_sqft         0\n",
       "bath              73\n",
       "balcony          609\n",
       "price              0\n",
       "dtype: int64"
      ]
     },
     "execution_count": 87,
     "metadata": {},
     "output_type": "execute_result"
    }
   ],
   "source": [
    "dataset.isnull().sum()"
   ]
  },
  {
   "cell_type": "code",
   "execution_count": 88,
   "id": "2a7e7816-93f3-4344-8d6b-739b6a6983cd",
   "metadata": {},
   "outputs": [],
   "source": [
    "dataset.drop(columns=[\"area_type\",\"availability\",\"society\",\"balcony\"],inplace=True)"
   ]
  },
  {
   "cell_type": "code",
   "execution_count": 89,
   "id": "9d5d03fe-4f0d-45e6-aa82-76f7294545ed",
   "metadata": {},
   "outputs": [
    {
     "data": {
      "text/html": [
       "<div>\n",
       "<style scoped>\n",
       "    .dataframe tbody tr th:only-of-type {\n",
       "        vertical-align: middle;\n",
       "    }\n",
       "\n",
       "    .dataframe tbody tr th {\n",
       "        vertical-align: top;\n",
       "    }\n",
       "\n",
       "    .dataframe thead th {\n",
       "        text-align: right;\n",
       "    }\n",
       "</style>\n",
       "<table border=\"1\" class=\"dataframe\">\n",
       "  <thead>\n",
       "    <tr style=\"text-align: right;\">\n",
       "      <th></th>\n",
       "      <th>location</th>\n",
       "      <th>size</th>\n",
       "      <th>total_sqft</th>\n",
       "      <th>bath</th>\n",
       "      <th>price</th>\n",
       "    </tr>\n",
       "  </thead>\n",
       "  <tbody>\n",
       "    <tr>\n",
       "      <th>0</th>\n",
       "      <td>Electronic City Phase II</td>\n",
       "      <td>2 BHK</td>\n",
       "      <td>1056</td>\n",
       "      <td>2.0</td>\n",
       "      <td>39.07</td>\n",
       "    </tr>\n",
       "    <tr>\n",
       "      <th>1</th>\n",
       "      <td>Chikka Tirupathi</td>\n",
       "      <td>4 Bedroom</td>\n",
       "      <td>2600</td>\n",
       "      <td>5.0</td>\n",
       "      <td>120.00</td>\n",
       "    </tr>\n",
       "    <tr>\n",
       "      <th>2</th>\n",
       "      <td>Uttarahalli</td>\n",
       "      <td>3 BHK</td>\n",
       "      <td>1440</td>\n",
       "      <td>2.0</td>\n",
       "      <td>62.00</td>\n",
       "    </tr>\n",
       "  </tbody>\n",
       "</table>\n",
       "</div>"
      ],
      "text/plain": [
       "                   location       size total_sqft  bath   price\n",
       "0  Electronic City Phase II      2 BHK       1056   2.0   39.07\n",
       "1          Chikka Tirupathi  4 Bedroom       2600   5.0  120.00\n",
       "2               Uttarahalli      3 BHK       1440   2.0   62.00"
      ]
     },
     "execution_count": 89,
     "metadata": {},
     "output_type": "execute_result"
    }
   ],
   "source": [
    "dataset.head(3)"
   ]
  },
  {
   "cell_type": "code",
   "execution_count": 90,
   "id": "b2dcaed4-6ff3-4cc0-a816-e48825afd48e",
   "metadata": {},
   "outputs": [
    {
     "data": {
      "text/html": [
       "<div>\n",
       "<style scoped>\n",
       "    .dataframe tbody tr th:only-of-type {\n",
       "        vertical-align: middle;\n",
       "    }\n",
       "\n",
       "    .dataframe tbody tr th {\n",
       "        vertical-align: top;\n",
       "    }\n",
       "\n",
       "    .dataframe thead th {\n",
       "        text-align: right;\n",
       "    }\n",
       "</style>\n",
       "<table border=\"1\" class=\"dataframe\">\n",
       "  <thead>\n",
       "    <tr style=\"text-align: right;\">\n",
       "      <th></th>\n",
       "      <th>bath</th>\n",
       "      <th>price</th>\n",
       "    </tr>\n",
       "  </thead>\n",
       "  <tbody>\n",
       "    <tr>\n",
       "      <th>count</th>\n",
       "      <td>13247.000000</td>\n",
       "      <td>13320.000000</td>\n",
       "    </tr>\n",
       "    <tr>\n",
       "      <th>mean</th>\n",
       "      <td>2.692610</td>\n",
       "      <td>112.565627</td>\n",
       "    </tr>\n",
       "    <tr>\n",
       "      <th>std</th>\n",
       "      <td>1.341458</td>\n",
       "      <td>148.971674</td>\n",
       "    </tr>\n",
       "    <tr>\n",
       "      <th>min</th>\n",
       "      <td>1.000000</td>\n",
       "      <td>8.000000</td>\n",
       "    </tr>\n",
       "    <tr>\n",
       "      <th>25%</th>\n",
       "      <td>2.000000</td>\n",
       "      <td>50.000000</td>\n",
       "    </tr>\n",
       "    <tr>\n",
       "      <th>50%</th>\n",
       "      <td>2.000000</td>\n",
       "      <td>72.000000</td>\n",
       "    </tr>\n",
       "    <tr>\n",
       "      <th>75%</th>\n",
       "      <td>3.000000</td>\n",
       "      <td>120.000000</td>\n",
       "    </tr>\n",
       "    <tr>\n",
       "      <th>max</th>\n",
       "      <td>40.000000</td>\n",
       "      <td>3600.000000</td>\n",
       "    </tr>\n",
       "  </tbody>\n",
       "</table>\n",
       "</div>"
      ],
      "text/plain": [
       "               bath         price\n",
       "count  13247.000000  13320.000000\n",
       "mean       2.692610    112.565627\n",
       "std        1.341458    148.971674\n",
       "min        1.000000      8.000000\n",
       "25%        2.000000     50.000000\n",
       "50%        2.000000     72.000000\n",
       "75%        3.000000    120.000000\n",
       "max       40.000000   3600.000000"
      ]
     },
     "execution_count": 90,
     "metadata": {},
     "output_type": "execute_result"
    }
   ],
   "source": [
    "dataset.describe()"
   ]
  },
  {
   "cell_type": "code",
   "execution_count": 91,
   "id": "a584ff0e-d136-4fd9-9b60-16509902ab82",
   "metadata": {},
   "outputs": [
    {
     "name": "stdout",
     "output_type": "stream",
     "text": [
      "<class 'pandas.core.frame.DataFrame'>\n",
      "RangeIndex: 13320 entries, 0 to 13319\n",
      "Data columns (total 5 columns):\n",
      " #   Column      Non-Null Count  Dtype  \n",
      "---  ------      --------------  -----  \n",
      " 0   location    13319 non-null  object \n",
      " 1   size        13304 non-null  object \n",
      " 2   total_sqft  13320 non-null  object \n",
      " 3   bath        13247 non-null  float64\n",
      " 4   price       13320 non-null  float64\n",
      "dtypes: float64(2), object(3)\n",
      "memory usage: 520.4+ KB\n"
     ]
    }
   ],
   "source": [
    "dataset.info()"
   ]
  },
  {
   "cell_type": "code",
   "execution_count": 92,
   "id": "01d467a6-cfe6-4bb7-921b-ada7310667c5",
   "metadata": {},
   "outputs": [
    {
     "data": {
      "text/plain": [
       "location       1\n",
       "size          16\n",
       "total_sqft     0\n",
       "bath          73\n",
       "price          0\n",
       "dtype: int64"
      ]
     },
     "execution_count": 92,
     "metadata": {},
     "output_type": "execute_result"
    }
   ],
   "source": [
    "dataset.isnull().sum()"
   ]
  },
  {
   "cell_type": "code",
   "execution_count": 93,
   "id": "f5091c29-b245-477a-82aa-fce2216c8b4f",
   "metadata": {},
   "outputs": [],
   "source": [
    "dataset.fillna({\"location\":dataset[\"location\"].mode()[0],\n",
    "               \"size\":dataset[\"size\"].mode()[0],\n",
    "               \"bath\":dataset[\"bath\"].median()},inplace=True)"
   ]
  },
  {
   "cell_type": "code",
   "execution_count": 94,
   "id": "dfb250e1-6006-4b22-ab80-ef97f2fec925",
   "metadata": {},
   "outputs": [
    {
     "data": {
      "text/plain": [
       "location      0\n",
       "size          0\n",
       "total_sqft    0\n",
       "bath          0\n",
       "price         0\n",
       "dtype: int64"
      ]
     },
     "execution_count": 94,
     "metadata": {},
     "output_type": "execute_result"
    }
   ],
   "source": [
    "dataset.isnull().sum()"
   ]
  },
  {
   "cell_type": "code",
   "execution_count": 95,
   "id": "f9aff753-9832-47fb-9ed3-871c87bd789d",
   "metadata": {},
   "outputs": [],
   "source": [
    "dataset[\"bhk\"] = dataset[\"size\"].map(lambda x : x.split()[0]).astype(int)"
   ]
  },
  {
   "cell_type": "code",
   "execution_count": 96,
   "id": "036a4f44-c56c-49ce-9828-1d678924fe29",
   "metadata": {},
   "outputs": [
    {
     "data": {
      "text/html": [
       "<div>\n",
       "<style scoped>\n",
       "    .dataframe tbody tr th:only-of-type {\n",
       "        vertical-align: middle;\n",
       "    }\n",
       "\n",
       "    .dataframe tbody tr th {\n",
       "        vertical-align: top;\n",
       "    }\n",
       "\n",
       "    .dataframe thead th {\n",
       "        text-align: right;\n",
       "    }\n",
       "</style>\n",
       "<table border=\"1\" class=\"dataframe\">\n",
       "  <thead>\n",
       "    <tr style=\"text-align: right;\">\n",
       "      <th></th>\n",
       "      <th>location</th>\n",
       "      <th>size</th>\n",
       "      <th>total_sqft</th>\n",
       "      <th>bath</th>\n",
       "      <th>price</th>\n",
       "      <th>bhk</th>\n",
       "    </tr>\n",
       "  </thead>\n",
       "  <tbody>\n",
       "    <tr>\n",
       "      <th>1718</th>\n",
       "      <td>2Electronic City Phase II</td>\n",
       "      <td>27 BHK</td>\n",
       "      <td>8000</td>\n",
       "      <td>27.0</td>\n",
       "      <td>230.0</td>\n",
       "      <td>27</td>\n",
       "    </tr>\n",
       "    <tr>\n",
       "      <th>4684</th>\n",
       "      <td>Munnekollal</td>\n",
       "      <td>43 Bedroom</td>\n",
       "      <td>2400</td>\n",
       "      <td>40.0</td>\n",
       "      <td>660.0</td>\n",
       "      <td>43</td>\n",
       "    </tr>\n",
       "  </tbody>\n",
       "</table>\n",
       "</div>"
      ],
      "text/plain": [
       "                       location        size total_sqft  bath  price  bhk\n",
       "1718  2Electronic City Phase II      27 BHK       8000  27.0  230.0   27\n",
       "4684                Munnekollal  43 Bedroom       2400  40.0  660.0   43"
      ]
     },
     "execution_count": 96,
     "metadata": {},
     "output_type": "execute_result"
    }
   ],
   "source": [
    "dataset[dataset.bhk > 20]"
   ]
  },
  {
   "cell_type": "code",
   "execution_count": 97,
   "id": "8e1bb5b9-7c2b-4f2e-ae9f-e331273e07d0",
   "metadata": {},
   "outputs": [
    {
     "data": {
      "text/plain": [
       "array(['1056', '2600', '1440', ..., '1133 - 1384', '774', '4689'],\n",
       "      dtype=object)"
      ]
     },
     "execution_count": 97,
     "metadata": {},
     "output_type": "execute_result"
    }
   ],
   "source": [
    "dataset[\"total_sqft\"].unique()"
   ]
  },
  {
   "cell_type": "code",
   "execution_count": 98,
   "id": "fac3558e-9ccd-4e77-ad8d-0434240d7940",
   "metadata": {},
   "outputs": [],
   "source": [
    "def convertRange(x):\n",
    "    temp = x.split(\"-\")\n",
    "    if len(temp) == 2:\n",
    "        return (float(temp[0])+float(temp[1]))/2\n",
    "    try: return float(x)\n",
    "    except: return None"
   ]
  },
  {
   "cell_type": "code",
   "execution_count": 99,
   "id": "5d848407-4626-452a-933d-b0c90f7c398c",
   "metadata": {},
   "outputs": [],
   "source": [
    "dataset[\"total_sqft\"] = dataset[\"total_sqft\"].apply(convertRange)"
   ]
  },
  {
   "cell_type": "code",
   "execution_count": 100,
   "id": "7da5c8c2-f38d-493e-b13e-4a7f97241bfe",
   "metadata": {},
   "outputs": [
    {
     "data": {
      "text/html": [
       "<div>\n",
       "<style scoped>\n",
       "    .dataframe tbody tr th:only-of-type {\n",
       "        vertical-align: middle;\n",
       "    }\n",
       "\n",
       "    .dataframe tbody tr th {\n",
       "        vertical-align: top;\n",
       "    }\n",
       "\n",
       "    .dataframe thead th {\n",
       "        text-align: right;\n",
       "    }\n",
       "</style>\n",
       "<table border=\"1\" class=\"dataframe\">\n",
       "  <thead>\n",
       "    <tr style=\"text-align: right;\">\n",
       "      <th></th>\n",
       "      <th>location</th>\n",
       "      <th>size</th>\n",
       "      <th>total_sqft</th>\n",
       "      <th>bath</th>\n",
       "      <th>price</th>\n",
       "      <th>bhk</th>\n",
       "    </tr>\n",
       "  </thead>\n",
       "  <tbody>\n",
       "    <tr>\n",
       "      <th>0</th>\n",
       "      <td>Electronic City Phase II</td>\n",
       "      <td>2 BHK</td>\n",
       "      <td>1056.0</td>\n",
       "      <td>2.0</td>\n",
       "      <td>39.07</td>\n",
       "      <td>2</td>\n",
       "    </tr>\n",
       "    <tr>\n",
       "      <th>1</th>\n",
       "      <td>Chikka Tirupathi</td>\n",
       "      <td>4 Bedroom</td>\n",
       "      <td>2600.0</td>\n",
       "      <td>5.0</td>\n",
       "      <td>120.00</td>\n",
       "      <td>4</td>\n",
       "    </tr>\n",
       "    <tr>\n",
       "      <th>2</th>\n",
       "      <td>Uttarahalli</td>\n",
       "      <td>3 BHK</td>\n",
       "      <td>1440.0</td>\n",
       "      <td>2.0</td>\n",
       "      <td>62.00</td>\n",
       "      <td>3</td>\n",
       "    </tr>\n",
       "  </tbody>\n",
       "</table>\n",
       "</div>"
      ],
      "text/plain": [
       "                   location       size  total_sqft  bath   price  bhk\n",
       "0  Electronic City Phase II      2 BHK      1056.0   2.0   39.07    2\n",
       "1          Chikka Tirupathi  4 Bedroom      2600.0   5.0  120.00    4\n",
       "2               Uttarahalli      3 BHK      1440.0   2.0   62.00    3"
      ]
     },
     "execution_count": 100,
     "metadata": {},
     "output_type": "execute_result"
    }
   ],
   "source": [
    "dataset.head(3)"
   ]
  },
  {
   "cell_type": "markdown",
   "id": "3d34e7f6-c602-4d11-b797-f93e6dc3a2c1",
   "metadata": {},
   "source": [
    "### Price Per Square feet"
   ]
  },
  {
   "cell_type": "code",
   "execution_count": 101,
   "id": "332855ff-ffc5-4dbb-aff1-83a45ccbafbb",
   "metadata": {},
   "outputs": [],
   "source": [
    "dataset['price_per_sqft'] = dataset['price']*100000/dataset['total_sqft']"
   ]
  },
  {
   "cell_type": "code",
   "execution_count": 102,
   "id": "8cd94abf-9edd-4941-89e3-ef0106a7ac65",
   "metadata": {},
   "outputs": [
    {
     "data": {
      "text/plain": [
       "0         3699.810606\n",
       "1         4615.384615\n",
       "2         4305.555556\n",
       "3         6245.890861\n",
       "4         4250.000000\n",
       "             ...     \n",
       "13315     6689.834926\n",
       "13316    11111.111111\n",
       "13317     5258.545136\n",
       "13318    10407.336319\n",
       "13319     3090.909091\n",
       "Name: price_per_sqft, Length: 13320, dtype: float64"
      ]
     },
     "execution_count": 102,
     "metadata": {},
     "output_type": "execute_result"
    }
   ],
   "source": [
    "dataset['price_per_sqft']"
   ]
  },
  {
   "cell_type": "code",
   "execution_count": 103,
   "id": "ef278da1-089a-452a-ba3f-2e3db47ec70c",
   "metadata": {},
   "outputs": [
    {
     "data": {
      "text/html": [
       "<div>\n",
       "<style scoped>\n",
       "    .dataframe tbody tr th:only-of-type {\n",
       "        vertical-align: middle;\n",
       "    }\n",
       "\n",
       "    .dataframe tbody tr th {\n",
       "        vertical-align: top;\n",
       "    }\n",
       "\n",
       "    .dataframe thead th {\n",
       "        text-align: right;\n",
       "    }\n",
       "</style>\n",
       "<table border=\"1\" class=\"dataframe\">\n",
       "  <thead>\n",
       "    <tr style=\"text-align: right;\">\n",
       "      <th></th>\n",
       "      <th>total_sqft</th>\n",
       "      <th>bath</th>\n",
       "      <th>price</th>\n",
       "      <th>bhk</th>\n",
       "      <th>price_per_sqft</th>\n",
       "    </tr>\n",
       "  </thead>\n",
       "  <tbody>\n",
       "    <tr>\n",
       "      <th>count</th>\n",
       "      <td>13274.000000</td>\n",
       "      <td>13320.000000</td>\n",
       "      <td>13320.000000</td>\n",
       "      <td>13320.000000</td>\n",
       "      <td>1.327400e+04</td>\n",
       "    </tr>\n",
       "    <tr>\n",
       "      <th>mean</th>\n",
       "      <td>1559.626694</td>\n",
       "      <td>2.688814</td>\n",
       "      <td>112.565627</td>\n",
       "      <td>2.802778</td>\n",
       "      <td>7.907501e+03</td>\n",
       "    </tr>\n",
       "    <tr>\n",
       "      <th>std</th>\n",
       "      <td>1238.405258</td>\n",
       "      <td>1.338754</td>\n",
       "      <td>148.971674</td>\n",
       "      <td>1.294496</td>\n",
       "      <td>1.064296e+05</td>\n",
       "    </tr>\n",
       "    <tr>\n",
       "      <th>min</th>\n",
       "      <td>1.000000</td>\n",
       "      <td>1.000000</td>\n",
       "      <td>8.000000</td>\n",
       "      <td>1.000000</td>\n",
       "      <td>2.678298e+02</td>\n",
       "    </tr>\n",
       "    <tr>\n",
       "      <th>25%</th>\n",
       "      <td>1100.000000</td>\n",
       "      <td>2.000000</td>\n",
       "      <td>50.000000</td>\n",
       "      <td>2.000000</td>\n",
       "      <td>4.266865e+03</td>\n",
       "    </tr>\n",
       "    <tr>\n",
       "      <th>50%</th>\n",
       "      <td>1276.000000</td>\n",
       "      <td>2.000000</td>\n",
       "      <td>72.000000</td>\n",
       "      <td>3.000000</td>\n",
       "      <td>5.434306e+03</td>\n",
       "    </tr>\n",
       "    <tr>\n",
       "      <th>75%</th>\n",
       "      <td>1680.000000</td>\n",
       "      <td>3.000000</td>\n",
       "      <td>120.000000</td>\n",
       "      <td>3.000000</td>\n",
       "      <td>7.311746e+03</td>\n",
       "    </tr>\n",
       "    <tr>\n",
       "      <th>max</th>\n",
       "      <td>52272.000000</td>\n",
       "      <td>40.000000</td>\n",
       "      <td>3600.000000</td>\n",
       "      <td>43.000000</td>\n",
       "      <td>1.200000e+07</td>\n",
       "    </tr>\n",
       "  </tbody>\n",
       "</table>\n",
       "</div>"
      ],
      "text/plain": [
       "         total_sqft          bath         price           bhk  price_per_sqft\n",
       "count  13274.000000  13320.000000  13320.000000  13320.000000    1.327400e+04\n",
       "mean    1559.626694      2.688814    112.565627      2.802778    7.907501e+03\n",
       "std     1238.405258      1.338754    148.971674      1.294496    1.064296e+05\n",
       "min        1.000000      1.000000      8.000000      1.000000    2.678298e+02\n",
       "25%     1100.000000      2.000000     50.000000      2.000000    4.266865e+03\n",
       "50%     1276.000000      2.000000     72.000000      3.000000    5.434306e+03\n",
       "75%     1680.000000      3.000000    120.000000      3.000000    7.311746e+03\n",
       "max    52272.000000     40.000000   3600.000000     43.000000    1.200000e+07"
      ]
     },
     "execution_count": 103,
     "metadata": {},
     "output_type": "execute_result"
    }
   ],
   "source": [
    "dataset.describe()"
   ]
  },
  {
   "cell_type": "code",
   "execution_count": 104,
   "id": "dc618a89-8af0-4cc0-9291-4a7377ed1be7",
   "metadata": {},
   "outputs": [
    {
     "data": {
      "text/plain": [
       "location\n",
       "Whitefield                 541\n",
       "Sarjapur  Road             399\n",
       "Electronic City            302\n",
       "Kanakpura Road             273\n",
       "Thanisandra                234\n",
       "                          ... \n",
       "Park View Layout             1\n",
       "Xavier Layout                1\n",
       "Air View Colony              1\n",
       "akshaya nagar t c palya      1\n",
       "mvj engineering college      1\n",
       "Name: count, Length: 1305, dtype: int64"
      ]
     },
     "execution_count": 104,
     "metadata": {},
     "output_type": "execute_result"
    }
   ],
   "source": [
    "dataset['location'].value_counts()"
   ]
  },
  {
   "cell_type": "code",
   "execution_count": 105,
   "id": "b9d4e310-4f8b-4e90-99f1-1239a5419a4e",
   "metadata": {},
   "outputs": [],
   "source": [
    "dataset['location'] = dataset['location'].apply(lambda x: x.strip())\n",
    "location_count = dataset['location'].value_counts()"
   ]
  },
  {
   "cell_type": "code",
   "execution_count": 106,
   "id": "2c425499-aded-4f97-8043-03185396b76e",
   "metadata": {},
   "outputs": [
    {
     "data": {
      "text/plain": [
       "location\n",
       "Whitefield            542\n",
       "Sarjapur  Road        399\n",
       "Electronic City       304\n",
       "Kanakpura Road        273\n",
       "Thanisandra           237\n",
       "                     ... \n",
       "Hsr layout sector3      1\n",
       "Thyagraj Nagar          1\n",
       "Banagirinagar           1\n",
       "Medaralli               1\n",
       "Chikkajala              1\n",
       "Name: count, Length: 1294, dtype: int64"
      ]
     },
     "execution_count": 106,
     "metadata": {},
     "output_type": "execute_result"
    }
   ],
   "source": [
    "location_count"
   ]
  },
  {
   "cell_type": "code",
   "execution_count": 107,
   "id": "984c806d-4830-4aa4-8173-21aa442c963b",
   "metadata": {},
   "outputs": [
    {
     "data": {
      "text/plain": [
       "location\n",
       "Dodsworth Layout         10\n",
       "Nagadevanahalli          10\n",
       "Sadashiva Nagar          10\n",
       "1st Block Koramangala    10\n",
       "Gunjur Palya             10\n",
       "                         ..\n",
       "Hsr layout sector3        1\n",
       "Thyagraj Nagar            1\n",
       "Banagirinagar             1\n",
       "Medaralli                 1\n",
       "Chikkajala                1\n",
       "Name: count, Length: 1053, dtype: int64"
      ]
     },
     "execution_count": 107,
     "metadata": {},
     "output_type": "execute_result"
    }
   ],
   "source": [
    "location_count_less_10 = location_count[location_count <= 10]\n",
    "location_count_less_10"
   ]
  },
  {
   "cell_type": "code",
   "execution_count": 108,
   "id": "e82cdd5a-4ea6-4eac-a86e-97fefac4b6b4",
   "metadata": {},
   "outputs": [],
   "source": [
    "dataset['location'] = dataset['location'].apply(lambda x : 'other' if x in location_count_less_10 else x)"
   ]
  },
  {
   "cell_type": "code",
   "execution_count": 109,
   "id": "64634e0a-a342-4c4c-8cee-7d71b8304cc6",
   "metadata": {},
   "outputs": [
    {
     "data": {
      "text/plain": [
       "location\n",
       "other                        2885\n",
       "Whitefield                    542\n",
       "Sarjapur  Road                399\n",
       "Electronic City               304\n",
       "Kanakpura Road                273\n",
       "                             ... \n",
       "Tindlu                         11\n",
       "Marsur                         11\n",
       "2nd Phase Judicial Layout      11\n",
       "Thyagaraja Nagar               11\n",
       "HAL 2nd Stage                  11\n",
       "Name: count, Length: 242, dtype: int64"
      ]
     },
     "execution_count": 109,
     "metadata": {},
     "output_type": "execute_result"
    }
   ],
   "source": [
    "dataset['location'].value_counts()"
   ]
  },
  {
   "cell_type": "markdown",
   "id": "eb7ca337-8578-48ad-bbe8-9a6d635d8e69",
   "metadata": {},
   "source": [
    "### Outlier Removal"
   ]
  },
  {
   "cell_type": "code",
   "execution_count": 110,
   "id": "1421640b-7d93-4fc9-954c-9c252ebf1314",
   "metadata": {},
   "outputs": [
    {
     "data": {
      "text/html": [
       "<div>\n",
       "<style scoped>\n",
       "    .dataframe tbody tr th:only-of-type {\n",
       "        vertical-align: middle;\n",
       "    }\n",
       "\n",
       "    .dataframe tbody tr th {\n",
       "        vertical-align: top;\n",
       "    }\n",
       "\n",
       "    .dataframe thead th {\n",
       "        text-align: right;\n",
       "    }\n",
       "</style>\n",
       "<table border=\"1\" class=\"dataframe\">\n",
       "  <thead>\n",
       "    <tr style=\"text-align: right;\">\n",
       "      <th></th>\n",
       "      <th>total_sqft</th>\n",
       "      <th>bath</th>\n",
       "      <th>price</th>\n",
       "      <th>bhk</th>\n",
       "      <th>price_per_sqft</th>\n",
       "    </tr>\n",
       "  </thead>\n",
       "  <tbody>\n",
       "    <tr>\n",
       "      <th>count</th>\n",
       "      <td>13274.000000</td>\n",
       "      <td>13320.000000</td>\n",
       "      <td>13320.000000</td>\n",
       "      <td>13320.000000</td>\n",
       "      <td>1.327400e+04</td>\n",
       "    </tr>\n",
       "    <tr>\n",
       "      <th>mean</th>\n",
       "      <td>1559.626694</td>\n",
       "      <td>2.688814</td>\n",
       "      <td>112.565627</td>\n",
       "      <td>2.802778</td>\n",
       "      <td>7.907501e+03</td>\n",
       "    </tr>\n",
       "    <tr>\n",
       "      <th>std</th>\n",
       "      <td>1238.405258</td>\n",
       "      <td>1.338754</td>\n",
       "      <td>148.971674</td>\n",
       "      <td>1.294496</td>\n",
       "      <td>1.064296e+05</td>\n",
       "    </tr>\n",
       "    <tr>\n",
       "      <th>min</th>\n",
       "      <td>1.000000</td>\n",
       "      <td>1.000000</td>\n",
       "      <td>8.000000</td>\n",
       "      <td>1.000000</td>\n",
       "      <td>2.678298e+02</td>\n",
       "    </tr>\n",
       "    <tr>\n",
       "      <th>25%</th>\n",
       "      <td>1100.000000</td>\n",
       "      <td>2.000000</td>\n",
       "      <td>50.000000</td>\n",
       "      <td>2.000000</td>\n",
       "      <td>4.266865e+03</td>\n",
       "    </tr>\n",
       "    <tr>\n",
       "      <th>50%</th>\n",
       "      <td>1276.000000</td>\n",
       "      <td>2.000000</td>\n",
       "      <td>72.000000</td>\n",
       "      <td>3.000000</td>\n",
       "      <td>5.434306e+03</td>\n",
       "    </tr>\n",
       "    <tr>\n",
       "      <th>75%</th>\n",
       "      <td>1680.000000</td>\n",
       "      <td>3.000000</td>\n",
       "      <td>120.000000</td>\n",
       "      <td>3.000000</td>\n",
       "      <td>7.311746e+03</td>\n",
       "    </tr>\n",
       "    <tr>\n",
       "      <th>max</th>\n",
       "      <td>52272.000000</td>\n",
       "      <td>40.000000</td>\n",
       "      <td>3600.000000</td>\n",
       "      <td>43.000000</td>\n",
       "      <td>1.200000e+07</td>\n",
       "    </tr>\n",
       "  </tbody>\n",
       "</table>\n",
       "</div>"
      ],
      "text/plain": [
       "         total_sqft          bath         price           bhk  price_per_sqft\n",
       "count  13274.000000  13320.000000  13320.000000  13320.000000    1.327400e+04\n",
       "mean    1559.626694      2.688814    112.565627      2.802778    7.907501e+03\n",
       "std     1238.405258      1.338754    148.971674      1.294496    1.064296e+05\n",
       "min        1.000000      1.000000      8.000000      1.000000    2.678298e+02\n",
       "25%     1100.000000      2.000000     50.000000      2.000000    4.266865e+03\n",
       "50%     1276.000000      2.000000     72.000000      3.000000    5.434306e+03\n",
       "75%     1680.000000      3.000000    120.000000      3.000000    7.311746e+03\n",
       "max    52272.000000     40.000000   3600.000000     43.000000    1.200000e+07"
      ]
     },
     "execution_count": 110,
     "metadata": {},
     "output_type": "execute_result"
    }
   ],
   "source": [
    "dataset.describe()"
   ]
  },
  {
   "cell_type": "code",
   "execution_count": 111,
   "id": "62a3942a-b0fd-4b85-ad61-0bc15f09258b",
   "metadata": {},
   "outputs": [
    {
     "data": {
      "text/plain": [
       "count    13274.000000\n",
       "mean       575.074878\n",
       "std        388.205175\n",
       "min          0.250000\n",
       "25%        473.333333\n",
       "50%        552.500000\n",
       "75%        625.000000\n",
       "max      26136.000000\n",
       "dtype: float64"
      ]
     },
     "execution_count": 111,
     "metadata": {},
     "output_type": "execute_result"
    }
   ],
   "source": [
    "(dataset['total_sqft']/dataset['bhk']).describe()"
   ]
  },
  {
   "cell_type": "code",
   "execution_count": 112,
   "id": "84e6c2bb-ca54-4fec-aa01-8d9a5763ae71",
   "metadata": {},
   "outputs": [
    {
     "data": {
      "text/html": [
       "<div>\n",
       "<style scoped>\n",
       "    .dataframe tbody tr th:only-of-type {\n",
       "        vertical-align: middle;\n",
       "    }\n",
       "\n",
       "    .dataframe tbody tr th {\n",
       "        vertical-align: top;\n",
       "    }\n",
       "\n",
       "    .dataframe thead th {\n",
       "        text-align: right;\n",
       "    }\n",
       "</style>\n",
       "<table border=\"1\" class=\"dataframe\">\n",
       "  <thead>\n",
       "    <tr style=\"text-align: right;\">\n",
       "      <th></th>\n",
       "      <th>total_sqft</th>\n",
       "      <th>bath</th>\n",
       "      <th>price</th>\n",
       "      <th>bhk</th>\n",
       "      <th>price_per_sqft</th>\n",
       "    </tr>\n",
       "  </thead>\n",
       "  <tbody>\n",
       "    <tr>\n",
       "      <th>count</th>\n",
       "      <td>12530.000000</td>\n",
       "      <td>12530.000000</td>\n",
       "      <td>12530.000000</td>\n",
       "      <td>12530.000000</td>\n",
       "      <td>12530.000000</td>\n",
       "    </tr>\n",
       "    <tr>\n",
       "      <th>mean</th>\n",
       "      <td>1594.564544</td>\n",
       "      <td>2.559537</td>\n",
       "      <td>111.382401</td>\n",
       "      <td>2.650838</td>\n",
       "      <td>6303.979357</td>\n",
       "    </tr>\n",
       "    <tr>\n",
       "      <th>std</th>\n",
       "      <td>1261.271296</td>\n",
       "      <td>1.077938</td>\n",
       "      <td>152.077329</td>\n",
       "      <td>0.976678</td>\n",
       "      <td>4162.237981</td>\n",
       "    </tr>\n",
       "    <tr>\n",
       "      <th>min</th>\n",
       "      <td>300.000000</td>\n",
       "      <td>1.000000</td>\n",
       "      <td>8.440000</td>\n",
       "      <td>1.000000</td>\n",
       "      <td>267.829813</td>\n",
       "    </tr>\n",
       "    <tr>\n",
       "      <th>25%</th>\n",
       "      <td>1116.000000</td>\n",
       "      <td>2.000000</td>\n",
       "      <td>49.000000</td>\n",
       "      <td>2.000000</td>\n",
       "      <td>4210.526316</td>\n",
       "    </tr>\n",
       "    <tr>\n",
       "      <th>50%</th>\n",
       "      <td>1300.000000</td>\n",
       "      <td>2.000000</td>\n",
       "      <td>70.000000</td>\n",
       "      <td>3.000000</td>\n",
       "      <td>5294.117647</td>\n",
       "    </tr>\n",
       "    <tr>\n",
       "      <th>75%</th>\n",
       "      <td>1700.000000</td>\n",
       "      <td>3.000000</td>\n",
       "      <td>115.000000</td>\n",
       "      <td>3.000000</td>\n",
       "      <td>6916.666667</td>\n",
       "    </tr>\n",
       "    <tr>\n",
       "      <th>max</th>\n",
       "      <td>52272.000000</td>\n",
       "      <td>16.000000</td>\n",
       "      <td>3600.000000</td>\n",
       "      <td>16.000000</td>\n",
       "      <td>176470.588235</td>\n",
       "    </tr>\n",
       "  </tbody>\n",
       "</table>\n",
       "</div>"
      ],
      "text/plain": [
       "         total_sqft          bath         price           bhk  price_per_sqft\n",
       "count  12530.000000  12530.000000  12530.000000  12530.000000    12530.000000\n",
       "mean    1594.564544      2.559537    111.382401      2.650838     6303.979357\n",
       "std     1261.271296      1.077938    152.077329      0.976678     4162.237981\n",
       "min      300.000000      1.000000      8.440000      1.000000      267.829813\n",
       "25%     1116.000000      2.000000     49.000000      2.000000     4210.526316\n",
       "50%     1300.000000      2.000000     70.000000      3.000000     5294.117647\n",
       "75%     1700.000000      3.000000    115.000000      3.000000     6916.666667\n",
       "max    52272.000000     16.000000   3600.000000     16.000000   176470.588235"
      ]
     },
     "execution_count": 112,
     "metadata": {},
     "output_type": "execute_result"
    }
   ],
   "source": [
    "dataset = dataset[((dataset['total_sqft']/dataset['bhk']) >= 300)]\n",
    "dataset.describe()"
   ]
  },
  {
   "cell_type": "code",
   "execution_count": 113,
   "id": "0857c82f-538c-45e6-9727-efa64185fe88",
   "metadata": {},
   "outputs": [
    {
     "data": {
      "text/plain": [
       "(12530, 7)"
      ]
     },
     "execution_count": 113,
     "metadata": {},
     "output_type": "execute_result"
    }
   ],
   "source": [
    "dataset.shape"
   ]
  },
  {
   "cell_type": "code",
   "execution_count": 114,
   "id": "d8fd65ef-79c8-4dd5-b6ff-bac3a1ee8108",
   "metadata": {},
   "outputs": [
    {
     "data": {
      "text/plain": [
       "count     12530.000000\n",
       "mean       6303.979357\n",
       "std        4162.237981\n",
       "min         267.829813\n",
       "25%        4210.526316\n",
       "50%        5294.117647\n",
       "75%        6916.666667\n",
       "max      176470.588235\n",
       "Name: price_per_sqft, dtype: float64"
      ]
     },
     "execution_count": 114,
     "metadata": {},
     "output_type": "execute_result"
    }
   ],
   "source": [
    "dataset['price_per_sqft'].describe()"
   ]
  },
  {
   "cell_type": "code",
   "execution_count": 115,
   "id": "de8396e8-338b-46d8-bfe4-4cf23c23a116",
   "metadata": {},
   "outputs": [
    {
     "data": {
      "text/html": [
       "<div>\n",
       "<style scoped>\n",
       "    .dataframe tbody tr th:only-of-type {\n",
       "        vertical-align: middle;\n",
       "    }\n",
       "\n",
       "    .dataframe tbody tr th {\n",
       "        vertical-align: top;\n",
       "    }\n",
       "\n",
       "    .dataframe thead th {\n",
       "        text-align: right;\n",
       "    }\n",
       "</style>\n",
       "<table border=\"1\" class=\"dataframe\">\n",
       "  <thead>\n",
       "    <tr style=\"text-align: right;\">\n",
       "      <th></th>\n",
       "      <th>total_sqft</th>\n",
       "      <th>bath</th>\n",
       "      <th>price</th>\n",
       "      <th>bhk</th>\n",
       "      <th>price_per_sqft</th>\n",
       "    </tr>\n",
       "  </thead>\n",
       "  <tbody>\n",
       "    <tr>\n",
       "      <th>count</th>\n",
       "      <td>10301.000000</td>\n",
       "      <td>10301.000000</td>\n",
       "      <td>10301.000000</td>\n",
       "      <td>10301.000000</td>\n",
       "      <td>10301.000000</td>\n",
       "    </tr>\n",
       "    <tr>\n",
       "      <th>mean</th>\n",
       "      <td>1508.440608</td>\n",
       "      <td>2.471702</td>\n",
       "      <td>91.286372</td>\n",
       "      <td>2.574896</td>\n",
       "      <td>5659.062876</td>\n",
       "    </tr>\n",
       "    <tr>\n",
       "      <th>std</th>\n",
       "      <td>880.694214</td>\n",
       "      <td>0.979449</td>\n",
       "      <td>86.342786</td>\n",
       "      <td>0.897649</td>\n",
       "      <td>2265.774749</td>\n",
       "    </tr>\n",
       "    <tr>\n",
       "      <th>min</th>\n",
       "      <td>300.000000</td>\n",
       "      <td>1.000000</td>\n",
       "      <td>10.000000</td>\n",
       "      <td>1.000000</td>\n",
       "      <td>1250.000000</td>\n",
       "    </tr>\n",
       "    <tr>\n",
       "      <th>25%</th>\n",
       "      <td>1110.000000</td>\n",
       "      <td>2.000000</td>\n",
       "      <td>49.000000</td>\n",
       "      <td>2.000000</td>\n",
       "      <td>4244.897959</td>\n",
       "    </tr>\n",
       "    <tr>\n",
       "      <th>50%</th>\n",
       "      <td>1286.000000</td>\n",
       "      <td>2.000000</td>\n",
       "      <td>67.000000</td>\n",
       "      <td>2.000000</td>\n",
       "      <td>5175.600739</td>\n",
       "    </tr>\n",
       "    <tr>\n",
       "      <th>75%</th>\n",
       "      <td>1650.000000</td>\n",
       "      <td>3.000000</td>\n",
       "      <td>100.000000</td>\n",
       "      <td>3.000000</td>\n",
       "      <td>6428.571429</td>\n",
       "    </tr>\n",
       "    <tr>\n",
       "      <th>max</th>\n",
       "      <td>30400.000000</td>\n",
       "      <td>16.000000</td>\n",
       "      <td>2200.000000</td>\n",
       "      <td>16.000000</td>\n",
       "      <td>24509.803922</td>\n",
       "    </tr>\n",
       "  </tbody>\n",
       "</table>\n",
       "</div>"
      ],
      "text/plain": [
       "         total_sqft          bath         price           bhk  price_per_sqft\n",
       "count  10301.000000  10301.000000  10301.000000  10301.000000    10301.000000\n",
       "mean    1508.440608      2.471702     91.286372      2.574896     5659.062876\n",
       "std      880.694214      0.979449     86.342786      0.897649     2265.774749\n",
       "min      300.000000      1.000000     10.000000      1.000000     1250.000000\n",
       "25%     1110.000000      2.000000     49.000000      2.000000     4244.897959\n",
       "50%     1286.000000      2.000000     67.000000      2.000000     5175.600739\n",
       "75%     1650.000000      3.000000    100.000000      3.000000     6428.571429\n",
       "max    30400.000000     16.000000   2200.000000     16.000000    24509.803922"
      ]
     },
     "execution_count": 115,
     "metadata": {},
     "output_type": "execute_result"
    }
   ],
   "source": [
    "def remove_outliers_sqft(df):\n",
    "    df_output = pd.DataFrame()\n",
    "    for key,subdf in df.groupby('location'):\n",
    "        m = np.mean(subdf.price_per_sqft)\n",
    "        st = np.std(subdf.price_per_sqft)\n",
    "        gen_df = subdf[(subdf.price_per_sqft > (m-st)) & (subdf.price_per_sqft < (m+st))]\n",
    "        df_output = pd.concat([df_output,gen_df],ignore_index=True)\n",
    "    return df_output\n",
    "dataset = remove_outliers_sqft(dataset)\n",
    "dataset.describe()    "
   ]
  },
  {
   "cell_type": "code",
   "execution_count": 116,
   "id": "21cdf347-dbf5-4e4f-8fb9-7b9c64bb853b",
   "metadata": {},
   "outputs": [],
   "source": [
    "def bhk_outlier_removal(df):\n",
    "    exclude_indices = np.array([])\n",
    "    for location,location_df in df.groupby('location'):\n",
    "        bhk_stats = {}\n",
    "        for bhk,bhk_df in location_df.groupby('bhk'):\n",
    "            bhk_stats[bhk] = {\n",
    "                'mean':np.mean(bhk_df.price_per_sqft),\n",
    "                'std':np.std(bhk_df.price_per_sqft),\n",
    "                'count':bhk_df.shape[0]\n",
    "            }\n",
    "        for bhk,bhk_df in location_df.groupby('bhk'):\n",
    "            stats = bhk_stats.get(bhk-1)\n",
    "            if stats and stats['count']>5:\n",
    "                exclude_indices = np.append(exclude_indices,bhk_df[bhk_df.price_per_sqft < (stats['mean'])].index.values)\n",
    "    return df.drop(exclude_indices,axis='index')"
   ]
  },
  {
   "cell_type": "code",
   "execution_count": 117,
   "id": "63f5924f-df51-4fe4-a7f7-8356fbfbdd76",
   "metadata": {},
   "outputs": [],
   "source": [
    "dataset = bhk_outlier_removal(dataset)"
   ]
  },
  {
   "cell_type": "code",
   "execution_count": 118,
   "id": "c20a20eb-9e72-4777-95f8-8ec7715b7246",
   "metadata": {},
   "outputs": [
    {
     "data": {
      "text/plain": [
       "(7361, 7)"
      ]
     },
     "execution_count": 118,
     "metadata": {},
     "output_type": "execute_result"
    }
   ],
   "source": [
    "dataset.shape"
   ]
  },
  {
   "cell_type": "code",
   "execution_count": 119,
   "id": "b5e49f30-44a8-4f8c-90fa-456dd5aba00e",
   "metadata": {},
   "outputs": [],
   "source": [
    "dataset.drop(columns=['size','price_per_sqft'],inplace=True)"
   ]
  },
  {
   "cell_type": "markdown",
   "id": "e16ae021-2350-487a-9234-e1d15858bf04",
   "metadata": {},
   "source": [
    "## Cleaned Data"
   ]
  },
  {
   "cell_type": "code",
   "execution_count": 120,
   "id": "f80c2517-9c98-4e5a-bcf5-798f8abb7c9e",
   "metadata": {},
   "outputs": [
    {
     "data": {
      "text/html": [
       "<div>\n",
       "<style scoped>\n",
       "    .dataframe tbody tr th:only-of-type {\n",
       "        vertical-align: middle;\n",
       "    }\n",
       "\n",
       "    .dataframe tbody tr th {\n",
       "        vertical-align: top;\n",
       "    }\n",
       "\n",
       "    .dataframe thead th {\n",
       "        text-align: right;\n",
       "    }\n",
       "</style>\n",
       "<table border=\"1\" class=\"dataframe\">\n",
       "  <thead>\n",
       "    <tr style=\"text-align: right;\">\n",
       "      <th></th>\n",
       "      <th>location</th>\n",
       "      <th>total_sqft</th>\n",
       "      <th>bath</th>\n",
       "      <th>price</th>\n",
       "      <th>bhk</th>\n",
       "    </tr>\n",
       "  </thead>\n",
       "  <tbody>\n",
       "    <tr>\n",
       "      <th>0</th>\n",
       "      <td>1st Block Jayanagar</td>\n",
       "      <td>2850.0</td>\n",
       "      <td>4.0</td>\n",
       "      <td>428.0</td>\n",
       "      <td>4</td>\n",
       "    </tr>\n",
       "    <tr>\n",
       "      <th>1</th>\n",
       "      <td>1st Block Jayanagar</td>\n",
       "      <td>1630.0</td>\n",
       "      <td>3.0</td>\n",
       "      <td>194.0</td>\n",
       "      <td>3</td>\n",
       "    </tr>\n",
       "    <tr>\n",
       "      <th>2</th>\n",
       "      <td>1st Block Jayanagar</td>\n",
       "      <td>1875.0</td>\n",
       "      <td>2.0</td>\n",
       "      <td>235.0</td>\n",
       "      <td>3</td>\n",
       "    </tr>\n",
       "  </tbody>\n",
       "</table>\n",
       "</div>"
      ],
      "text/plain": [
       "              location  total_sqft  bath  price  bhk\n",
       "0  1st Block Jayanagar      2850.0   4.0  428.0    4\n",
       "1  1st Block Jayanagar      1630.0   3.0  194.0    3\n",
       "2  1st Block Jayanagar      1875.0   2.0  235.0    3"
      ]
     },
     "execution_count": 120,
     "metadata": {},
     "output_type": "execute_result"
    }
   ],
   "source": [
    "dataset.head(3)"
   ]
  },
  {
   "cell_type": "code",
   "execution_count": 121,
   "id": "cf8fcbe4-2478-463a-8038-ab9a904bf5df",
   "metadata": {},
   "outputs": [],
   "source": [
    "dataset.to_csv(\"Cleaned_data.csv\",index=False)"
   ]
  }
 ],
 "metadata": {
  "kernelspec": {
   "display_name": "Python 3 (ipykernel)",
   "language": "python",
   "name": "python3"
  },
  "language_info": {
   "codemirror_mode": {
    "name": "ipython",
    "version": 3
   },
   "file_extension": ".py",
   "mimetype": "text/x-python",
   "name": "python",
   "nbconvert_exporter": "python",
   "pygments_lexer": "ipython3",
   "version": "3.12.7"
  },
  "widgets": {
   "application/vnd.jupyter.widget-state+json": {
    "state": {},
    "version_major": 2,
    "version_minor": 0
   }
  }
 },
 "nbformat": 4,
 "nbformat_minor": 5
}
