{
 "cells": [
  {
   "cell_type": "markdown",
   "id": "2036ed3f-d4c4-4429-ba28-e6bb3bbc9101",
   "metadata": {},
   "source": [
    "## Machine Learning Model"
   ]
  },
  {
   "cell_type": "code",
   "execution_count": 1,
   "id": "fda0bb11-9bd7-444d-81e0-4a893f572ec5",
   "metadata": {},
   "outputs": [],
   "source": [
    "import pandas as pd\n",
    "from sklearn.preprocessing import StandardScaler,OneHotEncoder\n",
    "from sklearn.model_selection import train_test_split\n",
    "from sklearn.compose import make_column_transformer\n",
    "from sklearn.pipeline import make_pipeline\n",
    "from sklearn.linear_model import LinearRegression,Lasso,Ridge"
   ]
  },
  {
   "cell_type": "code",
   "execution_count": 2,
   "id": "8980a315-012c-4ee2-9f74-26cad5b6740e",
   "metadata": {},
   "outputs": [
    {
     "data": {
      "text/html": [
       "<div>\n",
       "<style scoped>\n",
       "    .dataframe tbody tr th:only-of-type {\n",
       "        vertical-align: middle;\n",
       "    }\n",
       "\n",
       "    .dataframe tbody tr th {\n",
       "        vertical-align: top;\n",
       "    }\n",
       "\n",
       "    .dataframe thead th {\n",
       "        text-align: right;\n",
       "    }\n",
       "</style>\n",
       "<table border=\"1\" class=\"dataframe\">\n",
       "  <thead>\n",
       "    <tr style=\"text-align: right;\">\n",
       "      <th></th>\n",
       "      <th>location</th>\n",
       "      <th>total_sqft</th>\n",
       "      <th>bath</th>\n",
       "      <th>price</th>\n",
       "      <th>bhk</th>\n",
       "    </tr>\n",
       "  </thead>\n",
       "  <tbody>\n",
       "    <tr>\n",
       "      <th>0</th>\n",
       "      <td>1st Block Jayanagar</td>\n",
       "      <td>2850.0</td>\n",
       "      <td>4.0</td>\n",
       "      <td>428.0</td>\n",
       "      <td>4</td>\n",
       "    </tr>\n",
       "    <tr>\n",
       "      <th>1</th>\n",
       "      <td>1st Block Jayanagar</td>\n",
       "      <td>1630.0</td>\n",
       "      <td>3.0</td>\n",
       "      <td>194.0</td>\n",
       "      <td>3</td>\n",
       "    </tr>\n",
       "    <tr>\n",
       "      <th>2</th>\n",
       "      <td>1st Block Jayanagar</td>\n",
       "      <td>1875.0</td>\n",
       "      <td>2.0</td>\n",
       "      <td>235.0</td>\n",
       "      <td>3</td>\n",
       "    </tr>\n",
       "    <tr>\n",
       "      <th>3</th>\n",
       "      <td>1st Block Jayanagar</td>\n",
       "      <td>1200.0</td>\n",
       "      <td>2.0</td>\n",
       "      <td>130.0</td>\n",
       "      <td>3</td>\n",
       "    </tr>\n",
       "    <tr>\n",
       "      <th>4</th>\n",
       "      <td>1st Block Jayanagar</td>\n",
       "      <td>1235.0</td>\n",
       "      <td>2.0</td>\n",
       "      <td>148.0</td>\n",
       "      <td>2</td>\n",
       "    </tr>\n",
       "  </tbody>\n",
       "</table>\n",
       "</div>"
      ],
      "text/plain": [
       "              location  total_sqft  bath  price  bhk\n",
       "0  1st Block Jayanagar      2850.0   4.0  428.0    4\n",
       "1  1st Block Jayanagar      1630.0   3.0  194.0    3\n",
       "2  1st Block Jayanagar      1875.0   2.0  235.0    3\n",
       "3  1st Block Jayanagar      1200.0   2.0  130.0    3\n",
       "4  1st Block Jayanagar      1235.0   2.0  148.0    2"
      ]
     },
     "execution_count": 2,
     "metadata": {},
     "output_type": "execute_result"
    }
   ],
   "source": [
    "data = pd.read_csv(\"Cleaned_data.csv\")\n",
    "data.head()"
   ]
  },
  {
   "cell_type": "code",
   "execution_count": 3,
   "id": "49b6f177-4faa-46dd-9949-c8836661ab2b",
   "metadata": {},
   "outputs": [],
   "source": [
    "X,Y = data.drop(columns='price'),data['price']\n",
    "X_train,x_test,Y_train,y_test = train_test_split(X,Y,test_size=0.2,random_state=0)"
   ]
  },
  {
   "cell_type": "code",
   "execution_count": 4,
   "id": "944ad2fe-8c28-418f-80cf-8cb765a312c4",
   "metadata": {},
   "outputs": [
    {
     "data": {
      "text/plain": [
       "((5888, 4), (1473, 4))"
      ]
     },
     "execution_count": 4,
     "metadata": {},
     "output_type": "execute_result"
    }
   ],
   "source": [
    "X_train.shape,x_test.shape"
   ]
  },
  {
   "cell_type": "code",
   "execution_count": 5,
   "id": "14386882-15d5-4b13-9f7d-1dfabad92d4a",
   "metadata": {},
   "outputs": [],
   "source": [
    "col_trans = make_column_transformer((OneHotEncoder(sparse_output=False),['location']),remainder=\"passthrough\")"
   ]
  },
  {
   "cell_type": "code",
   "execution_count": 6,
   "id": "7c86d857-10d7-4c5a-a327-84f0c2aa4571",
   "metadata": {},
   "outputs": [],
   "source": [
    "scaler = StandardScaler()"
   ]
  },
  {
   "cell_type": "markdown",
   "id": "be4a62e7-6107-42df-a4e2-a108fbde9dd6",
   "metadata": {},
   "source": [
    "## Applying Linear Regression"
   ]
  },
  {
   "cell_type": "code",
   "execution_count": 7,
   "id": "1fe2a285-d5dc-4628-a055-fa1dc440fc06",
   "metadata": {},
   "outputs": [
    {
     "data": {
      "text/plain": [
       "(86.17007374637254, 82.51977016381458)"
      ]
     },
     "execution_count": 7,
     "metadata": {},
     "output_type": "execute_result"
    }
   ],
   "source": [
    "pipe = make_pipeline(col_trans,scaler,LinearRegression())\n",
    "pipe.fit(X_train,Y_train)\n",
    "pipe.score(X_train,Y_train)*100,pipe.score(x_test,y_test)*100"
   ]
  },
  {
   "cell_type": "code",
   "execution_count": 8,
   "id": "34d328eb-2241-452f-9e31-70cfad85fa5d",
   "metadata": {},
   "outputs": [
    {
     "data": {
      "text/plain": [
       "(86.17007374637254, 82.51977016381508)"
      ]
     },
     "execution_count": 8,
     "metadata": {},
     "output_type": "execute_result"
    }
   ],
   "source": [
    "pipe = make_pipeline(col_trans,LinearRegression())\n",
    "pipe.fit(X_train,Y_train)\n",
    "pipe.score(X_train,Y_train)*100,pipe.score(x_test,y_test)*100"
   ]
  },
  {
   "cell_type": "markdown",
   "id": "ad469418-9b58-4af8-b4ed-9e3398687d64",
   "metadata": {},
   "source": [
    "## Applying Lasso"
   ]
  },
  {
   "cell_type": "code",
   "execution_count": 9,
   "id": "fe40acca-2a3c-4adf-b29f-4da85fa4a6f0",
   "metadata": {},
   "outputs": [
    {
     "data": {
      "text/plain": [
       "(84.93537906204466, 81.4689475169039)"
      ]
     },
     "execution_count": 9,
     "metadata": {},
     "output_type": "execute_result"
    }
   ],
   "source": [
    "pipe = make_pipeline(col_trans,scaler,Lasso())\n",
    "pipe.fit(X_train,Y_train)\n",
    "pipe.score(X_train,Y_train)*100,pipe.score(x_test,y_test)*100"
   ]
  },
  {
   "cell_type": "code",
   "execution_count": 10,
   "id": "54ddf8c2-0639-4baa-96fc-1665b6b91d4f",
   "metadata": {},
   "outputs": [
    {
     "data": {
      "text/plain": [
       "(73.71606368647623, 67.1688263276343)"
      ]
     },
     "execution_count": 10,
     "metadata": {},
     "output_type": "execute_result"
    }
   ],
   "source": [
    "pipe = make_pipeline(col_trans,Lasso())\n",
    "pipe.fit(X_train,Y_train)\n",
    "pipe.score(X_train,Y_train)*100,pipe.score(x_test,y_test)*100"
   ]
  },
  {
   "cell_type": "markdown",
   "id": "cd6f7d5e-f864-44b8-94eb-3cd63ec62539",
   "metadata": {},
   "source": [
    "## Applying Ridge"
   ]
  },
  {
   "cell_type": "code",
   "execution_count": 11,
   "id": "a1058cfd-24fb-40f0-a40f-b952ae634cdc",
   "metadata": {},
   "outputs": [
    {
     "data": {
      "text/plain": [
       "(86.17006997170607, 82.52348502290106)"
      ]
     },
     "execution_count": 11,
     "metadata": {},
     "output_type": "execute_result"
    }
   ],
   "source": [
    "pipe = make_pipeline(col_trans,scaler,Ridge())\n",
    "pipe.fit(X_train,Y_train)\n",
    "pipe.score(X_train,Y_train)*100,pipe.score(x_test,y_test)*100"
   ]
  },
  {
   "cell_type": "code",
   "execution_count": 12,
   "id": "0f101efa-caeb-4d12-9c43-0134d8a2b88d",
   "metadata": {},
   "outputs": [
    {
     "data": {
      "text/plain": [
       "(86.03449670805759, 82.23431153904205)"
      ]
     },
     "execution_count": 12,
     "metadata": {},
     "output_type": "execute_result"
    }
   ],
   "source": [
    "pipe = make_pipeline(col_trans,Ridge())\n",
    "pipe.fit(X_train,Y_train)\n",
    "pipe.score(X_train,Y_train)*100,pipe.score(x_test,y_test)*100"
   ]
  },
  {
   "cell_type": "code",
   "execution_count": 13,
   "id": "a1fe643f-9526-4650-89b7-b915708d8122",
   "metadata": {},
   "outputs": [
    {
     "data": {
      "text/plain": [
       "['Model.joblib']"
      ]
     },
     "execution_count": 13,
     "metadata": {},
     "output_type": "execute_result"
    }
   ],
   "source": [
    "import joblib\n",
    "joblib.dump(pipe, \"Model.joblib\")"
   ]
  }
 ],
 "metadata": {
  "kernelspec": {
   "display_name": "Python 3 (ipykernel)",
   "language": "python",
   "name": "python3"
  },
  "language_info": {
   "codemirror_mode": {
    "name": "ipython",
    "version": 3
   },
   "file_extension": ".py",
   "mimetype": "text/x-python",
   "name": "python",
   "nbconvert_exporter": "python",
   "pygments_lexer": "ipython3",
   "version": "3.12.7"
  },
  "widgets": {
   "application/vnd.jupyter.widget-state+json": {
    "state": {},
    "version_major": 2,
    "version_minor": 0
   }
  }
 },
 "nbformat": 4,
 "nbformat_minor": 5
}
